{
  "cells": [
    {
      "cell_type": "code",
      "execution_count": 1,
      "metadata": {
        "colab": {
          "base_uri": "https://localhost:8080/",
          "height": 115
        },
        "id": "l_1Q9TssZJgV",
        "outputId": "19dfde1a-2da5-40a3-ef1e-e4272f12f4f2"
      },
      "outputs": [
        {
          "name": "stdout",
          "output_type": "stream",
          "text": [
            "\u001b[2K   \u001b[90m━━━━━━━━━━━━━━━━━━━━━━━━━━━━━━━━━━━━━━━━\u001b[0m \u001b[32m9.7/9.7 MB\u001b[0m \u001b[31m14.1 MB/s\u001b[0m eta \u001b[36m0:00:00\u001b[0m\n",
            "\u001b[2K   \u001b[90m━━━━━━━━━━━━━━━━━━━━━━━━━━━━━━━━━━━━━━━━\u001b[0m \u001b[32m486.3/486.3 kB\u001b[0m \u001b[31m12.8 MB/s\u001b[0m eta \u001b[36m0:00:00\u001b[0m\n",
            "\u001b[?25h"
          ]
        },
        {
          "data": {
            "text/html": [
              "\n",
              "            <div class=\"spinner-container\">\n",
              "                <div class=\"spinner\" id=\"4822f9c7-ce79-4a32-87ca-b66c83bbe2de-circle\"></div>\n",
              "                <div class=\"spinner-text\" id=\"4822f9c7-ce79-4a32-87ca-b66c83bbe2de-text\">Updating and upgrading APT</div>\n",
              "            </div>\n",
              "            <style>\n",
              "                @keyframes spin {\n",
              "                    from { transform: rotate(0deg); }\n",
              "                    to { transform: rotate(360deg); }\n",
              "                }\n",
              "\n",
              "                .spinner-container {\n",
              "                    display: flex;\n",
              "                    align-items: center;\n",
              "                    margin-bottom: 3px;\n",
              "                }\n",
              "\n",
              "                .spinner {\n",
              "                    border: 3px solid rgba(0, 0, 0, 0.1);\n",
              "                    border-left-color: lightblue;\n",
              "                    border-radius: 50%;\n",
              "                    width: 12px;\n",
              "                    height: 12px;\n",
              "                    animation: spin 1s linear infinite;\n",
              "                }\n",
              "\n",
              "                .spinner-text {\n",
              "                    padding-left: 6px;\n",
              "                }\n",
              "            </style>\n",
              "        "
            ],
            "text/plain": [
              "<IPython.core.display.HTML object>"
            ]
          },
          "metadata": {},
          "output_type": "display_data"
        },
        {
          "data": {
            "application/javascript": "\n            const element = document.getElementById(\"4822f9c7-ce79-4a32-87ca-b66c83bbe2de-circle\");\n            element.style.border = \"3px solid limegreen\";\n            element.style.animation = \"none\";\n\n            const text = document.getElementById(\"4822f9c7-ce79-4a32-87ca-b66c83bbe2de-text\");\n            text.innerText = \"Updated and upgraded APT\";\n        ",
            "text/plain": [
              "<IPython.core.display.Javascript object>"
            ]
          },
          "metadata": {},
          "output_type": "display_data"
        },
        {
          "data": {
            "text/html": [
              "\n",
              "            <div class=\"spinner-container\">\n",
              "                <div class=\"spinner\" id=\"adb6bace-1e9a-4010-9a7f-79f6a464bd3e-circle\"></div>\n",
              "                <div class=\"spinner-text\" id=\"adb6bace-1e9a-4010-9a7f-79f6a464bd3e-text\">Downloading Google Chrome</div>\n",
              "            </div>\n",
              "            <style>\n",
              "                @keyframes spin {\n",
              "                    from { transform: rotate(0deg); }\n",
              "                    to { transform: rotate(360deg); }\n",
              "                }\n",
              "\n",
              "                .spinner-container {\n",
              "                    display: flex;\n",
              "                    align-items: center;\n",
              "                    margin-bottom: 3px;\n",
              "                }\n",
              "\n",
              "                .spinner {\n",
              "                    border: 3px solid rgba(0, 0, 0, 0.1);\n",
              "                    border-left-color: lightblue;\n",
              "                    border-radius: 50%;\n",
              "                    width: 12px;\n",
              "                    height: 12px;\n",
              "                    animation: spin 1s linear infinite;\n",
              "                }\n",
              "\n",
              "                .spinner-text {\n",
              "                    padding-left: 6px;\n",
              "                }\n",
              "            </style>\n",
              "        "
            ],
            "text/plain": [
              "<IPython.core.display.HTML object>"
            ]
          },
          "metadata": {},
          "output_type": "display_data"
        },
        {
          "data": {
            "application/javascript": "\n            const element = document.getElementById(\"adb6bace-1e9a-4010-9a7f-79f6a464bd3e-circle\");\n            element.style.border = \"3px solid limegreen\";\n            element.style.animation = \"none\";\n\n            const text = document.getElementById(\"adb6bace-1e9a-4010-9a7f-79f6a464bd3e-text\");\n            text.innerText = \"Downloaded Google Chrome\";\n        ",
            "text/plain": [
              "<IPython.core.display.Javascript object>"
            ]
          },
          "metadata": {},
          "output_type": "display_data"
        },
        {
          "data": {
            "text/html": [
              "\n",
              "            <div class=\"spinner-container\">\n",
              "                <div class=\"spinner\" id=\"bb8f1cfa-fced-4df5-9f1b-815f39f3a28f-circle\"></div>\n",
              "                <div class=\"spinner-text\" id=\"bb8f1cfa-fced-4df5-9f1b-815f39f3a28f-text\">Initializing Chromedriver</div>\n",
              "            </div>\n",
              "            <style>\n",
              "                @keyframes spin {\n",
              "                    from { transform: rotate(0deg); }\n",
              "                    to { transform: rotate(360deg); }\n",
              "                }\n",
              "\n",
              "                .spinner-container {\n",
              "                    display: flex;\n",
              "                    align-items: center;\n",
              "                    margin-bottom: 3px;\n",
              "                }\n",
              "\n",
              "                .spinner {\n",
              "                    border: 3px solid rgba(0, 0, 0, 0.1);\n",
              "                    border-left-color: lightblue;\n",
              "                    border-radius: 50%;\n",
              "                    width: 12px;\n",
              "                    height: 12px;\n",
              "                    animation: spin 1s linear infinite;\n",
              "                }\n",
              "\n",
              "                .spinner-text {\n",
              "                    padding-left: 6px;\n",
              "                }\n",
              "            </style>\n",
              "        "
            ],
            "text/plain": [
              "<IPython.core.display.HTML object>"
            ]
          },
          "metadata": {},
          "output_type": "display_data"
        },
        {
          "data": {
            "application/javascript": "\n            const element = document.getElementById(\"bb8f1cfa-fced-4df5-9f1b-815f39f3a28f-circle\");\n            element.style.border = \"3px solid limegreen\";\n            element.style.animation = \"none\";\n\n            const text = document.getElementById(\"bb8f1cfa-fced-4df5-9f1b-815f39f3a28f-text\");\n            text.innerText = \"Initialized Chromedriver\";\n        ",
            "text/plain": [
              "<IPython.core.display.Javascript object>"
            ]
          },
          "metadata": {},
          "output_type": "display_data"
        }
      ],
      "source": [
        "%pip install -q google-colab-selenium\n",
        "import google_colab_selenium as gs\n",
        "driver = gs.Chrome()"
      ]
    },
    {
      "cell_type": "code",
      "execution_count": 2,
      "metadata": {
        "colab": {
          "base_uri": "https://localhost:8080/"
        },
        "id": "R-MX9XYGZrmZ",
        "outputId": "60ca2d88-da70-4707-a4ef-21ea062681e1"
      },
      "outputs": [
        {
          "name": "stdout",
          "output_type": "stream",
          "text": [
            "Requirement already satisfied: selenium in /usr/local/lib/python3.10/dist-packages (4.27.1)\n",
            "Requirement already satisfied: urllib3<3,>=1.26 in /usr/local/lib/python3.10/dist-packages (from urllib3[socks]<3,>=1.26->selenium) (2.2.3)\n",
            "Requirement already satisfied: trio~=0.17 in /usr/local/lib/python3.10/dist-packages (from selenium) (0.28.0)\n",
            "Requirement already satisfied: trio-websocket~=0.9 in /usr/local/lib/python3.10/dist-packages (from selenium) (0.11.1)\n",
            "Requirement already satisfied: certifi>=2021.10.8 in /usr/local/lib/python3.10/dist-packages (from selenium) (2024.12.14)\n",
            "Requirement already satisfied: typing_extensions~=4.9 in /usr/local/lib/python3.10/dist-packages (from selenium) (4.12.2)\n",
            "Requirement already satisfied: websocket-client~=1.8 in /usr/local/lib/python3.10/dist-packages (from selenium) (1.8.0)\n",
            "Requirement already satisfied: attrs>=23.2.0 in /usr/local/lib/python3.10/dist-packages (from trio~=0.17->selenium) (24.3.0)\n",
            "Requirement already satisfied: sortedcontainers in /usr/local/lib/python3.10/dist-packages (from trio~=0.17->selenium) (2.4.0)\n",
            "Requirement already satisfied: idna in /usr/local/lib/python3.10/dist-packages (from trio~=0.17->selenium) (3.10)\n",
            "Requirement already satisfied: outcome in /usr/local/lib/python3.10/dist-packages (from trio~=0.17->selenium) (1.3.0.post0)\n",
            "Requirement already satisfied: sniffio>=1.3.0 in /usr/local/lib/python3.10/dist-packages (from trio~=0.17->selenium) (1.3.1)\n",
            "Requirement already satisfied: exceptiongroup in /usr/local/lib/python3.10/dist-packages (from trio~=0.17->selenium) (1.2.2)\n",
            "Requirement already satisfied: wsproto>=0.14 in /usr/local/lib/python3.10/dist-packages (from trio-websocket~=0.9->selenium) (1.2.0)\n",
            "Requirement already satisfied: pysocks!=1.5.7,<2.0,>=1.5.6 in /usr/local/lib/python3.10/dist-packages (from urllib3[socks]<3,>=1.26->selenium) (1.7.1)\n",
            "Requirement already satisfied: h11<1,>=0.9.0 in /usr/local/lib/python3.10/dist-packages (from wsproto>=0.14->trio-websocket~=0.9->selenium) (0.14.0)\n"
          ]
        }
      ],
      "source": [
        "# Install selenium\n",
        "!pip install selenium"
      ]
    },
    {
      "cell_type": "code",
      "execution_count": 3,
      "metadata": {
        "colab": {
          "base_uri": "https://localhost:8080/"
        },
        "id": "rwE1KVB0jTg8",
        "outputId": "a6ccbce4-6c74-4391-c643-544f9e6d4da8"
      },
      "outputs": [
        {
          "name": "stdout",
          "output_type": "stream",
          "text": [
            "Google Chrome 131.0.6778.204 \n"
          ]
        }
      ],
      "source": [
        "!google-chrome --version\n"
      ]
    },
    {
      "cell_type": "code",
      "execution_count": 4,
      "metadata": {
        "colab": {
          "base_uri": "https://localhost:8080/"
        },
        "id": "LN3MLfCRlbgw",
        "outputId": "61c5fc7b-d6a6-44ae-b061-ba00f5c30e68"
      },
      "outputs": [
        {
          "name": "stdout",
          "output_type": "stream",
          "text": [
            "Collecting webdriver-manager\n",
            "  Downloading webdriver_manager-4.0.2-py2.py3-none-any.whl.metadata (12 kB)\n",
            "Requirement already satisfied: requests in /usr/local/lib/python3.10/dist-packages (from webdriver-manager) (2.32.3)\n",
            "Collecting python-dotenv (from webdriver-manager)\n",
            "  Downloading python_dotenv-1.0.1-py3-none-any.whl.metadata (23 kB)\n",
            "Requirement already satisfied: packaging in /usr/local/lib/python3.10/dist-packages (from webdriver-manager) (24.2)\n",
            "Requirement already satisfied: charset-normalizer<4,>=2 in /usr/local/lib/python3.10/dist-packages (from requests->webdriver-manager) (3.4.0)\n",
            "Requirement already satisfied: idna<4,>=2.5 in /usr/local/lib/python3.10/dist-packages (from requests->webdriver-manager) (3.10)\n",
            "Requirement already satisfied: urllib3<3,>=1.21.1 in /usr/local/lib/python3.10/dist-packages (from requests->webdriver-manager) (2.2.3)\n",
            "Requirement already satisfied: certifi>=2017.4.17 in /usr/local/lib/python3.10/dist-packages (from requests->webdriver-manager) (2024.12.14)\n",
            "Downloading webdriver_manager-4.0.2-py2.py3-none-any.whl (27 kB)\n",
            "Downloading python_dotenv-1.0.1-py3-none-any.whl (19 kB)\n",
            "Installing collected packages: python-dotenv, webdriver-manager\n",
            "Successfully installed python-dotenv-1.0.1 webdriver-manager-4.0.2\n"
          ]
        }
      ],
      "source": [
        "!pip install webdriver-manager\n"
      ]
    },
    {
      "cell_type": "code",
      "execution_count": 5,
      "metadata": {
        "colab": {
          "base_uri": "https://localhost:8080/"
        },
        "id": "m47aiMyMgo0s",
        "outputId": "d26a466f-9df1-4d8c-96e3-e7b7abd642f2"
      },
      "outputs": [
        {
          "name": "stdout",
          "output_type": "stream",
          "text": [
            "Requirement already satisfied: webdriver-manager in /usr/local/lib/python3.10/dist-packages (4.0.2)\n",
            "Requirement already satisfied: requests in /usr/local/lib/python3.10/dist-packages (from webdriver-manager) (2.32.3)\n",
            "Requirement already satisfied: python-dotenv in /usr/local/lib/python3.10/dist-packages (from webdriver-manager) (1.0.1)\n",
            "Requirement already satisfied: packaging in /usr/local/lib/python3.10/dist-packages (from webdriver-manager) (24.2)\n",
            "Requirement already satisfied: charset-normalizer<4,>=2 in /usr/local/lib/python3.10/dist-packages (from requests->webdriver-manager) (3.4.0)\n",
            "Requirement already satisfied: idna<4,>=2.5 in /usr/local/lib/python3.10/dist-packages (from requests->webdriver-manager) (3.10)\n",
            "Requirement already satisfied: urllib3<3,>=1.21.1 in /usr/local/lib/python3.10/dist-packages (from requests->webdriver-manager) (2.2.3)\n",
            "Requirement already satisfied: certifi>=2017.4.17 in /usr/local/lib/python3.10/dist-packages (from requests->webdriver-manager) (2024.12.14)\n"
          ]
        }
      ],
      "source": [
        "!pip install webdriver-manager"
      ]
    },
    {
      "cell_type": "code",
      "execution_count": 6,
      "metadata": {
        "colab": {
          "base_uri": "https://localhost:8080/"
        },
        "id": "1D0cWP-iZ-sr",
        "outputId": "016b3b2a-eab5-4477-ea7a-cbfaec4f8a82"
      },
      "outputs": [
        {
          "name": "stdout",
          "output_type": "stream",
          "text": [
            "Mounted at /content/drive\n",
            "Data saved to /content/drive/My Drive/scraped_discussions.xlsx\n",
            "Web scraping and file saving completed successfully!\n"
          ]
        }
      ],
      "source": [
        "import os\n",
        "import pandas as pd\n",
        "from selenium import webdriver\n",
        "from selenium.webdriver.common.by import By\n",
        "from selenium.webdriver.chrome.service import Service\n",
        "from selenium.webdriver.support.ui import WebDriverWait\n",
        "from selenium.webdriver.support import expected_conditions as EC\n",
        "from webdriver_manager.chrome import ChromeDriverManager\n",
        "import time\n",
        "from google.colab import drive\n",
        "\n",
        "# Mount Google Drive\n",
        "def mount_google_drive():\n",
        "    try:\n",
        "        drive.mount('/content/drive')\n",
        "    except Exception as e:\n",
        "        print(f\"Error mounting Google Drive: {e}\")\n",
        "        raise\n",
        "\n",
        "# Check if output directory exists\n",
        "def check_output_directory(output_directory):\n",
        "    if not os.path.exists(output_directory):\n",
        "        print(f\"The directory '{output_directory}' does not exist. Please ensure your Google Drive is mounted correctly.\")\n",
        "        raise FileNotFoundError(f\"Directory not found: {output_directory}\")\n",
        "\n",
        "# Set up WebDriver\n",
        "def setup_webdriver():\n",
        "    chrome_options = webdriver.ChromeOptions()\n",
        "    chrome_options.add_argument(\"--headless\")\n",
        "    chrome_options.add_argument(\"--no-sandbox\")\n",
        "    chrome_options.add_argument(\"--disable-dev-shm-usage\")\n",
        "    chrome_options.add_argument(\"--disable-gpu\")\n",
        "    chrome_options.add_argument(\"--window-size=1920,1080\")\n",
        "    chrome_options.add_argument(\"--disable-infobars\")\n",
        "    chrome_options.add_argument(\"--disable-popup-blocking\")\n",
        "    chrome_options.add_argument(\"--ignore-certificate-errors\")\n",
        "    chrome_options.add_argument(\"--incognito\")\n",
        "\n",
        "    driver = webdriver.Chrome(service=Service(ChromeDriverManager().install()), options=chrome_options)\n",
        "    return driver\n",
        "\n",
        "# Function to scrape discussions\n",
        "def scrape_huggingface_discussions(driver, url, max_scrolls=10):\n",
        "    discussions = []\n",
        "    driver.get(url)\n",
        "    time.sleep(5)\n",
        "\n",
        "    scroll_count = 0\n",
        "    last_height = driver.execute_script(\"return document.body.scrollHeight\")\n",
        "\n",
        "    while scroll_count < max_scrolls:\n",
        "        WebDriverWait(driver, 10).until(\n",
        "            EC.presence_of_all_elements_located((By.CSS_SELECTOR, 'a.title.raw-link.raw-topic-link'))\n",
        "        )\n",
        "\n",
        "        row_elements = driver.find_elements(By.CSS_SELECTOR, 'tr.topic-list-item')\n",
        "\n",
        "        for row in row_elements:\n",
        "            try:\n",
        "                topic_element = row.find_element(By.CSS_SELECTOR, 'a.title.raw-link.raw-topic-link')\n",
        "                topic_title = topic_element.text.strip()\n",
        "                topic_link = topic_element.get_attribute('href')\n",
        "\n",
        "                replies = row.find_element(By.CSS_SELECTOR, 'td.posts span.number').text.strip()\n",
        "                views = row.find_element(By.CSS_SELECTOR, 'td.views span.number').text.strip()\n",
        "\n",
        "                driver.execute_script(\"window.open('{}', '_blank');\".format(topic_link))\n",
        "                driver.switch_to.window(driver.window_handles[-1])\n",
        "                time.sleep(3)\n",
        "\n",
        "                try:\n",
        "                    question_element = driver.find_element(By.CSS_SELECTOR, '.topic-post.clearfix.topic-owner')\n",
        "                    full_question_text = question_element.text.strip()\n",
        "                    topic_question = ' '.join(full_question_text.split()[3:])\n",
        "                    topic_owner = full_question_text.split()[0]\n",
        "\n",
        "                    try:\n",
        "                        time_element = question_element.find_element(By.CSS_SELECTOR, 'span.relative-date')\n",
        "                        created_time = time_element.get_attribute('title')\n",
        "                    except Exception:\n",
        "                        created_time = \"Timestamp not available\"\n",
        "                except Exception:\n",
        "                    topic_question = \"Question not available\"\n",
        "                    topic_owner = \"Unknown\"\n",
        "                    created_time = \"Timestamp not available\"\n",
        "\n",
        "                answers = []\n",
        "                latest_time = \"Unknown\"\n",
        "                try:\n",
        "                    answer_elements = driver.find_elements(By.CSS_SELECTOR, '.topic-post.clearfix.regular')\n",
        "                    for index, answer_element in enumerate(answer_elements):\n",
        "                        if index == 0:\n",
        "                            continue\n",
        "\n",
        "                        try:\n",
        "                            username = answer_element.find_element(By.CSS_SELECTOR, 'span.username').text.strip()\n",
        "                            content = answer_element.find_element(By.CSS_SELECTOR, '.regular .cooked').text.strip()\n",
        "\n",
        "                            try:\n",
        "                                time_element = answer_element.find_element(By.CSS_SELECTOR, 'span.relative-date')\n",
        "                                timestamp = time_element.get_attribute('title')\n",
        "                                latest_time = timestamp  # Update latest time with each answer\n",
        "                            except Exception:\n",
        "                                timestamp = \"Timestamp not available\"\n",
        "\n",
        "                            answers.append({\n",
        "                                \"username\": username,\n",
        "                                \"content\": content,\n",
        "                                \"timestamp\": timestamp\n",
        "                            })\n",
        "                        except Exception as e:\n",
        "                            print(f\"Error processing answer: {e}\")\n",
        "                            continue\n",
        "                except Exception as e:\n",
        "                    print(f\"No answers or error occurred: {e}\")\n",
        "\n",
        "                discussions.append({\n",
        "                    \"title\": topic_title,\n",
        "                    \"link\": topic_link,\n",
        "                    \"owner\": topic_owner,\n",
        "                    \"replies\": replies,\n",
        "                    \"views\": views,\n",
        "                    \"activity\": f\"Created: {created_time}\\nLatest: {latest_time}\",\n",
        "                    \"question\": topic_question,\n",
        "                    \"time_stamp\": created_time,\n",
        "                    \"answers\": answers\n",
        "                })\n",
        "\n",
        "                driver.close()\n",
        "                driver.switch_to.window(driver.window_handles[0])\n",
        "            except Exception as e:\n",
        "                print(f\"Error processing row: {e}\")\n",
        "                continue\n",
        "\n",
        "        driver.execute_script(\"window.scrollTo(0, document.body.scrollHeight);\")\n",
        "        time.sleep(3)\n",
        "\n",
        "        new_height = driver.execute_script(\"return document.body.scrollHeight\")\n",
        "        if new_height == last_height:\n",
        "            print(\"No more content to load.\")\n",
        "            break\n",
        "        last_height = new_height\n",
        "        scroll_count += 1\n",
        "\n",
        "    return discussions\n",
        "\n",
        "# Save the scraped data to CSV\n",
        "def save_to_csv(discussions, file_path):\n",
        "    data = []\n",
        "    for discussion in discussions:\n",
        "        row = {\n",
        "            \"topic_title\": discussion['title'],\n",
        "            \"topic_link\": discussion['link'],\n",
        "            \"topic_owner\": discussion['owner'],\n",
        "            \"replies\": discussion['replies'],\n",
        "            \"views\": discussion['views'],\n",
        "            \"activity\": discussion['activity'],\n",
        "            \"timestamp\": discussion['time_stamp'],\n",
        "            \"topic_content\": discussion['question'],\n",
        "        }\n",
        "\n",
        "        for i, answer in enumerate(discussion['answers'], 1):\n",
        "            row[f\"username_topic_answer_{i}\"] = answer['username']\n",
        "            row[f\"topic_answer_{i}\"] = answer['content']\n",
        "            row[f\"timestamp_topic_answer_{i}\"] = answer['timestamp']\n",
        "\n",
        "        data.append(row)\n",
        "\n",
        "    df = pd.DataFrame(data)\n",
        "    df.to_csv(file_path, index=False)\n",
        "    print(f\"Data saved to {file_path}\")\n",
        "\n",
        "# Main Execution\n",
        "if __name__ == \"__main__\":\n",
        "    mount_google_drive()\n",
        "    output_directory = '/content/drive/My Drive'\n",
        "    check_output_directory(output_directory)\n",
        "\n",
        "    driver = setup_webdriver()\n",
        "    url = \"https://discuss.huggingface.co/c/beginners/5/l/hot\"\n",
        "\n",
        "    try:\n",
        "        discussions = scrape_huggingface_discussions(driver, url)\n",
        "        file_path = os.path.join(output_directory, 'scraped_discussions.csv')  \n",
        "        save_to_csv(discussions, file_path)\n",
        "    except Exception as e:\n",
        "        print(f\"An error occurred: {e}\")\n",
        "    finally:\n",
        "        driver.quit()\n",
        "\n",
        "    print(\"Web scraping and file saving completed successfully!\")\n"
      ]
    }
  ],
  "metadata": {
    "colab": {
      "provenance": []
    },
    "kernelspec": {
      "display_name": "Python 3",
      "name": "python3"
    },
    "language_info": {
      "name": "python"
    }
  },
  "nbformat": 4,
  "nbformat_minor": 0
}
